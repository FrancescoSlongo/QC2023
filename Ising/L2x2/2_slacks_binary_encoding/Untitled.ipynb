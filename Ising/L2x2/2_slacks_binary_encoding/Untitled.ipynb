{
 "cells": [
  {
   "cell_type": "code",
   "execution_count": null,
   "id": "47be4ac3",
   "metadata": {},
   "outputs": [
    {
     "ename": "",
     "evalue": "",
     "output_type": "error",
     "traceback": [
      "\u001b[1;31mRunning cells with '/usr/bin/python3' requires the ipykernel package.\n",
      "\u001b[1;31mRun the following command to install 'ipykernel' into the Python environment. \n",
      "\u001b[1;31mCommand: '/usr/bin/python3 -m pip install ipykernel -U --user --force-reinstall'"
     ]
    }
   ],
   "source": [
    "import numpy as np\n",
    "import matplotlib.pyplot as plt"
   ]
  },
  {
   "cell_type": "code",
   "execution_count": null,
   "id": "50d69f70",
   "metadata": {},
   "outputs": [],
   "source": [
    "data = open(\"configurations_loop.txt\", \"r\")\n",
    "configurations = []\n",
    "configurations_pairs = []\n",
    "configurations_spins = []\n",
    "for row in data:\n",
    "    row = row.replace(\"\\n\", \"\")\n",
    "    configurations.append(row)\n",
    "    configurations_spins.append(row[:4])\n",
    "    configurations_pairs.append(row[4:8])"
   ]
  },
  {
   "cell_type": "code",
   "execution_count": null,
   "id": "5934f281",
   "metadata": {},
   "outputs": [],
   "source": [
    "set_configurations_spins = ['0110','1001','0100','1010','0011','0001','1110','1000','1101','0010','1011','0101','1100','0111','1111','0000']\n",
    "set_configurations_pairs = ['0000', '0101', '0110', '1001', '1100', '0011', '1010', '1111']"
   ]
  },
  {
   "cell_type": "code",
   "execution_count": null,
   "id": "456264f9",
   "metadata": {},
   "outputs": [],
   "source": [
    "mapped_configurations_pairs = []\n",
    "for i in range(len(configurations_pairs)):\n",
    "    mapped_configurations_pairs.append(set_configurations_pairs.index(configurations_pairs[i]))\n",
    "\n",
    "bins = [-0.5+i for i in range(max(mapped_configurations_pairs)+2)]\n",
    "ticks = [i for i in range(max(mapped_configurations_pairs)+1)]\n",
    "\n",
    "plt.figure()\n",
    "counts, bins, fig = plt.hist(mapped_configurations_pairs, bins=bins)\n",
    "print(counts)\n",
    "plt.errorbar(ticks, counts, yerr=np.sqrt(counts), fmt='none', color=\"tab:orange\")\n",
    "plt.plot([bins[0], bins[-1]], [np.sum(counts)/len(ticks), np.sum(counts)/len(ticks)], '--', color='k')\n",
    "\n",
    "plt.xticks(ticks, [str(t+1) for t in ticks])\n",
    "plt.xlabel(\"microstates\")\n",
    "plt.ylabel(\"N\")\n",
    "plt.title(\"Histogram of pairs distributions\")\n",
    "plt.savefig('Histogram_uniformity_pairs.png',dpi=300, bbox_inches = \"tight\")\n",
    "plt.show()"
   ]
  },
  {
   "cell_type": "code",
   "execution_count": null,
   "id": "f85f8a10",
   "metadata": {},
   "outputs": [],
   "source": [
    "mapped_configurations_spins = []\n",
    "for i in range(len(configurations_spins)):\n",
    "    mapped_configurations_spins.append(set_configurations_spins.index(configurations_spins[i]))\n",
    "\n",
    "bins = [-0.5+i for i in range(max(mapped_configurations_spins)+2)]\n",
    "ticks = [i for i in range(max(mapped_configurations_spins)+1)]\n",
    "\n",
    "plt.figure()\n",
    "counts, bins, fig = plt.hist(mapped_configurations_spins, bins=bins)\n",
    "print(counts)\n",
    "plt.errorbar(ticks, counts, yerr=np.sqrt(counts), fmt='none', color=\"tab:orange\")\n",
    "plt.plot([bins[0], bins[-1]], [np.sum(counts)/len(ticks), np.sum(counts)/len(ticks)], '--', color='k')\n",
    "\n",
    "plt.xticks(ticks, [str(t+1) for t in ticks])\n",
    "plt.xlabel(\"microstates\")\n",
    "plt.ylabel(\"N\")\n",
    "plt.title(\"Histogram of spins distributions\")\n",
    "plt.savefig('Histogram_uniformity_spins.png',dpi=300, bbox_inches = \"tight\")\n",
    "plt.show()"
   ]
  },
  {
   "cell_type": "code",
   "execution_count": null,
   "id": "31d4c23f",
   "metadata": {},
   "outputs": [],
   "source": []
  }
 ],
 "metadata": {
  "kernelspec": {
   "display_name": "Python 3 (ipykernel)",
   "language": "python",
   "name": "python3"
  },
  "language_info": {
   "codemirror_mode": {
    "name": "ipython",
    "version": 3
   },
   "file_extension": ".py",
   "mimetype": "text/x-python",
   "name": "python",
   "nbconvert_exporter": "python",
   "pygments_lexer": "ipython3",
   "version": "3.9.2"
  },
  "varInspector": {
   "cols": {
    "lenName": 16,
    "lenType": 16,
    "lenVar": 40
   },
   "kernels_config": {
    "python": {
     "delete_cmd_postfix": "",
     "delete_cmd_prefix": "del ",
     "library": "var_list.py",
     "varRefreshCmd": "print(var_dic_list())"
    },
    "r": {
     "delete_cmd_postfix": ") ",
     "delete_cmd_prefix": "rm(",
     "library": "var_list.r",
     "varRefreshCmd": "cat(var_dic_list()) "
    }
   },
   "types_to_exclude": [
    "module",
    "function",
    "builtin_function_or_method",
    "instance",
    "_Feature"
   ],
   "window_display": false
  }
 },
 "nbformat": 4,
 "nbformat_minor": 5
}
